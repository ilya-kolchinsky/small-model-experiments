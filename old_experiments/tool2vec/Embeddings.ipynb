{
 "cells": [
  {
   "cell_type": "markdown",
   "id": "db27c48c",
   "metadata": {},
   "source": [
    "# "
   ]
  },
  {
   "cell_type": "markdown",
   "id": "8ef09eb0",
   "metadata": {},
   "source": [
    "# Tool2vec embeddings example\n",
    "# Show casing the tool retrieval capabilities with only query embedding.\n"
   ]
  },
  {
   "cell_type": "code",
   "execution_count": 1,
   "id": "0a60c8e3",
   "metadata": {},
   "outputs": [],
   "source": [
    "import json\n",
    "from datasets import load_dataset"
   ]
  },
  {
   "cell_type": "markdown",
   "id": "ab924e94",
   "metadata": {},
   "source": [
    "# Load datasets"
   ]
  },
  {
   "cell_type": "code",
   "execution_count": 2,
   "id": "175374a0",
   "metadata": {},
   "outputs": [],
   "source": [
    "\n",
    "\n",
    "ds = load_dataset(\"squeeze-ai-lab/ToolBank\")\n",
    "\n",
    "train_dataset = load_dataset(\"squeeze-ai-lab/ToolBank\", split=\"NumpyBank_train\")\n",
    "valid_dataset = load_dataset(\"squeeze-ai-lab/ToolBank\", split=\"NumpyBank_val\")\n",
    "test_dataset  = load_dataset(\"squeeze-ai-lab/ToolBank\", split=\"NumpyBank_test\")\n"
   ]
  },
  {
   "cell_type": "code",
   "execution_count": 3,
   "id": "1427d6dd",
   "metadata": {},
   "outputs": [
    {
     "name": "stdout",
     "output_type": "stream",
     "text": [
      "Datasets saved successfully to tool2vec/libs/libraries/\n"
     ]
    }
   ],
   "source": [
    "# Save directory\n",
    "save_dir = \"tool2vec/libs/libraries/\"\n",
    "\n",
    "# Save each split to disk\n",
    "with open(\"tool2vec/libs/libraries/NumpyBank_train.json\", \"w\") as f:\n",
    "    json.dump(train_dataset.to_list(), f, indent=2)\n",
    "with open(\"tool2vec/libs/libraries/NumpyBank_valid.json\", \"w\") as f:\n",
    "    json.dump(valid_dataset.to_list(), f, indent=2)\n",
    "with open(\"tool2vec/libs/libraries/NumpyBank_test.json\", \"w\") as f:\n",
    "    json.dump(test_dataset.to_list(), f, indent=2)\n",
    "\n",
    "print(\"Datasets saved successfully to tool2vec/libs/libraries/\")"
   ]
  },
  {
   "cell_type": "markdown",
   "id": "d70f9a77",
   "metadata": {},
   "source": [
    "## Creating the train embeddings\n",
    "### NumpyBank_train_embeddings.json\n",
    "### NumpyBank_train_embeddings.pkl\n"
   ]
  },
  {
   "cell_type": "code",
   "execution_count": 4,
   "id": "a50f894a",
   "metadata": {},
   "outputs": [
    {
     "name": "stdout",
     "output_type": "stream",
     "text": [
      "Loading data from tool2vec/libs/libraries/NumpyBank_train.json\n",
      "Loading e5-small model\n",
      "  0%|                                                 | 0/15994 [00:00<?, ?it/s]huggingface/tokenizers: The current process just got forked, after parallelism has already been used. Disabling parallelism to avoid deadlocks...\n",
      "To disable this warning, you can either:\n",
      "\t- Avoid using `tokenizers` before the fork if possible\n",
      "\t- Explicitly set the environment variable TOKENIZERS_PARALLELISM=(true | false)\n",
      "100%|████████████████████████████████████| 15994/15994 [01:29<00:00, 179.58it/s]\n",
      "Saving full data to output/NumpyBank_train_embedded.json\n",
      "Converted 511 unique tools to embeddings.\n",
      "Saved: output/NumpyBank_train_embedded.pkl\n"
     ]
    }
   ],
   "source": [
    "!python tool2vec/libs/libraries/toolrag/tool2vec/embedding_generator.py  \\\n",
    "    --data_path tool2vec/libs/libraries/NumpyBank_train.json \\\n",
    "    --output_path output \\\n",
    "    --output_file_name NumpyBank_train_embedded.json \\\n",
    "    --model e5-small"
   ]
  },
  {
   "cell_type": "markdown",
   "id": "8c06e053",
   "metadata": {},
   "source": [
    "## Creating the val embeddings\n",
    "### NumpyBank_val_embeddings.json\n",
    "### NumpyBank_val_embeddings.pkl"
   ]
  },
  {
   "cell_type": "code",
   "execution_count": 5,
   "id": "44339b58",
   "metadata": {},
   "outputs": [
    {
     "name": "stdout",
     "output_type": "stream",
     "text": [
      "Loading data from tool2vec/libs/libraries/NumpyBank_valid.json\n",
      "Loading e5-small model\n",
      "  0%|                                                  | 0/1998 [00:00<?, ?it/s]huggingface/tokenizers: The current process just got forked, after parallelism has already been used. Disabling parallelism to avoid deadlocks...\n",
      "To disable this warning, you can either:\n",
      "\t- Avoid using `tokenizers` before the fork if possible\n",
      "\t- Explicitly set the environment variable TOKENIZERS_PARALLELISM=(true | false)\n",
      "100%|██████████████████████████████████████| 1998/1998 [00:10<00:00, 189.49it/s]\n",
      "Saving full data to output/NumpyBank_val_embedded.json\n",
      "Converted 504 unique tools to embeddings.\n",
      "Saved: output/NumpyBank_val_embedded.pkl\n"
     ]
    }
   ],
   "source": [
    "!python tool2vec/libs/libraries/toolrag/tool2vec/embedding_generator.py  \\\n",
    "    --data_path tool2vec/libs/libraries/NumpyBank_valid.json \\\n",
    "    --output_path output \\\n",
    "    --output_file_name NumpyBank_val_embedded.json \\\n",
    "    --model e5-small"
   ]
  },
  {
   "cell_type": "markdown",
   "id": "a8307a98",
   "metadata": {},
   "source": [
    "## Creating the Test embeddings\n",
    "### NumpyBank_test_embeddings.json\n",
    "### NumpyBank_test_embeddings.pkl"
   ]
  },
  {
   "cell_type": "code",
   "execution_count": 6,
   "id": "e01637e3",
   "metadata": {},
   "outputs": [
    {
     "name": "stdout",
     "output_type": "stream",
     "text": [
      "Loading data from tool2vec/libs/libraries/NumpyBank_test.json\n",
      "Loading e5-small model\n",
      "  0%|                                                  | 0/2000 [00:00<?, ?it/s]huggingface/tokenizers: The current process just got forked, after parallelism has already been used. Disabling parallelism to avoid deadlocks...\n",
      "To disable this warning, you can either:\n",
      "\t- Avoid using `tokenizers` before the fork if possible\n",
      "\t- Explicitly set the environment variable TOKENIZERS_PARALLELISM=(true | false)\n",
      "100%|██████████████████████████████████████| 2000/2000 [00:09<00:00, 204.52it/s]\n",
      "Saving full data to output/NumpyBank_test_embedded.json\n",
      "Converted 506 unique tools to embeddings.\n",
      "Saved: output/NumpyBank_test_embedded.pkl\n"
     ]
    }
   ],
   "source": [
    "!python tool2vec/libs/libraries/toolrag/tool2vec/embedding_generator.py  \\\n",
    "    --data_path tool2vec/libs/libraries/NumpyBank_test.json \\\n",
    "    --output_path output \\\n",
    "    --output_file_name NumpyBank_test_embedded.json \\\n",
    "    --model e5-small\n"
   ]
  },
  {
   "cell_type": "markdown",
   "id": "0f214146",
   "metadata": {},
   "source": [
    "# Evaluating the embeddings\n",
    "### Recall@3 means the recall score if only the top 3 recommended tools are used.\n",
    "### NDCG@ means Normalized Discounted Cumulative Gain, more sophisticated metric than Recall because it takes into account not just the presence of relevant items, but also their position (rank) in the list and their relevance levels."
   ]
  },
  {
   "cell_type": "code",
   "execution_count": 7,
   "id": "02b9f8f7",
   "metadata": {},
   "outputs": [
    {
     "name": "stdout",
     "output_type": "stream",
     "text": [
      "Loading data...\n",
      "Data loaded\n",
      "Valid/test data length: 2000\n",
      "The number t2v embeddings: 506\n",
      "Recall@3: 0.205041666666667\n",
      "NDCG@3: 0.22895411132583404\n",
      "Recall@5: 0.25299999999999967\n",
      "NDCG@5: 0.2472805799983325\n",
      "Recall@7: 0.2895833333333323\n",
      "NDCG@7: 0.2645010906822132\n",
      "Recall@10: 0.33166666666666533\n",
      "NDCG@10: 0.28196382276237664\n",
      "Recall@12: 0.35674166666666585\n",
      "NDCG@12: 0.2914412592753431\n",
      "Recall@32: 0.5052749999999996\n",
      "NDCG@32: 0.33789596672139005\n",
      "Recall@64: 0.626816666666667\n",
      "NDCG@64: 0.3682432165035977\n",
      "Recall@128: 0.7638333333333344\n",
      "NDCG@128: 0.3974330336864197\n",
      "Recall@256: 0.898475000000001\n",
      "NDCG@256: 0.4226228550701565\n"
     ]
    }
   ],
   "source": [
    "!python ./tool2vec/libs/libraries/toolrag/tool2vec/evaluate_t2v_embedding.py \\\n",
    "  --valid_data_path output/NumpyBank_test_embedded.json \\\n",
    "  --t2v_embedding_path output/NumpyBank_test_embedded.pkl \\\n",
    "  --output_file_name output/evaluation_results.txt"
   ]
  }
 ],
 "metadata": {
  "kernelspec": {
   "display_name": "base",
   "language": "python",
   "name": "python3"
  },
  "language_info": {
   "codemirror_mode": {
    "name": "ipython",
    "version": 3
   },
   "file_extension": ".py",
   "mimetype": "text/x-python",
   "name": "python",
   "nbconvert_exporter": "python",
   "pygments_lexer": "ipython3",
   "version": "3.12.9"
  }
 },
 "nbformat": 4,
 "nbformat_minor": 5
}
