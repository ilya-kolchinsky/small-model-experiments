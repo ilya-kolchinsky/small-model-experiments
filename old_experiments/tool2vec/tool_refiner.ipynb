{
 "cells": [
  {
   "cell_type": "markdown",
   "metadata": {},
   "source": [
    "# Set values"
   ]
  },
  {
   "cell_type": "code",
   "execution_count": 1,
   "metadata": {},
   "outputs": [],
   "source": [
    "MODEL=\"microsoft/deberta-v3-base\"\n",
    "LR=8e-4             \n",
    "STD=0.2\n",
    "WD=0.01\n",
    "BATCH_SIZE=32\n",
    "EPOCH=1\n",
    "NUM_TOOLS=64\n",
    "WR=100 \n",
    "TRAIN_DATA_PATH=\"tool2vec/libs/libraries/NumpyBank_train.json\"\n",
    "VAL_DATA_PATH=\"tool2vec/libs/libraries/NumpyBank_valid.json\"\n",
    "TEST_DATA_PATH=\"tool2vec/libs/libraries/NumpyBank_test.json\"\n",
    "EMBEDDING_DATA_PATH=\"output/NumpyBank_train_embedded.pkl\"\n",
    "TOOL_NAME_PATH=\"tool2vec/libs/libraries/all_tools.json\"\n",
    "TRAIN_TOP_K_DIR=\"train_top_k.json\"\n",
    "VAL_TOP_K_DIR=\"val_top_k.json\"\n",
    "CHECKPOINT_DIR=\"numpy_checkpoints\"\n",
    "WANDB_NAME=\"bert_numpy_refiner\""
   ]
  },
  {
   "cell_type": "markdown",
   "metadata": {},
   "source": [
    "# Train tool refiner model "
   ]
  },
  {
   "cell_type": "code",
   "execution_count": null,
   "metadata": {},
   "outputs": [
    {
     "name": "stdout",
     "output_type": "stream",
     "text": [
      "/opt/anaconda3/lib/python3.12/site-packages/transformers/convert_slow_tokenizer.py:559: UserWarning: The sentencepiece tokenizer that you are converting to a fast tokenizer uses the byte fallback option which is not implemented in the fast tokenizers. In practice this means that the fast version of the tokenizer can produce unknown tokens whereas the sentencepiece version would have converted these unknown tokens into a sequence of byte tokens matching the original piece of text.\n",
      "  warnings.warn(\n",
      "/Users/eoconnor/small-model-experiments/tool2vec/libs/libraries/toolrag/toolrefiner/train_query_nt.py:320: FutureWarning: `torch.cuda.amp.GradScaler(args...)` is deprecated. Please use `torch.amp.GradScaler('cuda', args...)` instead.\n",
      "  scaler = torch.cuda.amp.GradScaler(enabled=use_amp)\n",
      "/opt/anaconda3/lib/python3.12/site-packages/torch/amp/grad_scaler.py:136: UserWarning: torch.cuda.amp.GradScaler is enabled, but CUDA is not available.  Disabling.\n",
      "  warnings.warn(\n",
      "Total steps: 500\n",
      "No checkpoint found. Starting from scratch.\n",
      "  0%|                                                     | 0/1 [00:00<?, ?it/s]Total recall at k@3:  0.011770997187663855\n",
      "Total recall at k@5:  0.011770997187663855\n",
      "Total recall at k@7:  0.011770997187663855\n",
      "Total recall at k@10:  0.011770997187663855\n",
      "Total recall at k@12:  0.011770997187663855\n",
      "Checkpoint saved at numpy_checkpoints/model_epoch_1.pt\n",
      "100%|███████████████████████████████████████████| 1/1 [19:20<00:00, 1160.31s/it]\n"
     ]
    }
   ],
   "source": [
    "!python tool2vec/libs/libraries/toolrag/toolrefiner/train_query_nt.py \\\n",
    "    --model {MODEL} \\\n",
    "    --lr {LR} \\\n",
    "    --use_amp \\\n",
    "    --std {STD} \\\n",
    "    --wd {WD} \\\n",
    "    --num_tools_to_be_presented {NUM_TOOLS}\\\n",
    "    --num_linear_warmup_steps 100 \\\n",
    "    --batch_size {BATCH_SIZE} \\\n",
    "    --num_epochs {EPOCH} \\\n",
    "    --training_data_dir {TRAIN_DATA_PATH} \\\n",
    "    --test_data_dir {VAL_DATA_PATH} \\\n",
    "    --tool_embedding_dir {EMBEDDING_DATA_PATH} \\\n",
    "    --tool_name_dir {TOOL_NAME_PATH} \\\n",
    "    --train_tool_top_k_retrieval_dir {TRAIN_TOP_K_DIR} \\\n",
    "    --valid_tool_top_k_retrieval_dir {VAL_TOP_K_DIR} \\\n",
    "    --checkpoint_dir {CHECKPOINT_DIR}"
   ]
  },
  {
   "cell_type": "markdown",
   "metadata": {},
   "source": [
    "# Evaluate tool refiner model"
   ]
  },
  {
   "cell_type": "code",
   "execution_count": 2,
   "metadata": {},
   "outputs": [
    {
     "name": "stdout",
     "output_type": "stream",
     "text": [
      "/opt/anaconda3/lib/python3.12/site-packages/transformers/convert_slow_tokenizer.py:559: UserWarning: The sentencepiece tokenizer that you are converting to a fast tokenizer uses the byte fallback option which is not implemented in the fast tokenizers. In practice this means that the fast version of the tokenizer can produce unknown tokens whereas the sentencepiece version would have converted these unknown tokens into a sequence of byte tokens matching the original piece of text.\n",
      "  warnings.warn(\n",
      "The model emb size : 768\n",
      "Model: microsoft/deberta-v3-base\n",
      "Valid dataset size: 2000\n",
      "Number of parameters: 184128001\n",
      "Loading checkpoint: numpy_checkpoints/model_epoch_1.pt\n",
      "Validation Training:   0%|                               | 0/63 [00:00<?, ?it/s]Asking to truncate to max_length but no maximum length is provided and the model has no predefined maximum length. Default to no truncation.\n",
      "Validation Training: 100%|██████████████████████| 63/63 [00:36<00:00,  1.73it/s]\n",
      "Checkpoint:  numpy_checkpoints/model_epoch_1.pt\n",
      "Total recall at k@3:  0.011790104166666667\n",
      "Total recall at k@5:  0.011790104166666667\n",
      "Total recall at k@7:  0.011790104166666667\n",
      "Total recall at k@10:  0.011790104166666667\n",
      "Total recall at k@12:  0.011790104166666667\n"
     ]
    }
   ],
   "source": [
    "!python tool2vec/libs/libraries/toolrag/toolrefiner/evaluate_query_nt.py \\\n",
    "    --model {MODEL} \\\n",
    "    --checkpoint_dir {CHECKPOINT_DIR} \\\n",
    "    --checkpoint_epoch {EPOCH} \\\n",
    "    --batch_size {BATCH_SIZE} \\\n",
    "    --test_data_dir {TEST_DATA_PATH} \\\n",
    "    --tool_embedding_dir {EMBEDDING_DATA_PATH} \\\n",
    "    --tool_name_dir {TOOL_NAME_PATH} \\\n",
    "    --valid_tool_top_k_retrieval_dir {VAL_TOP_K_DIR} \\\n",
    "    --num_tools_to_be_presented {NUM_TOOLS}"
   ]
  }
 ],
 "metadata": {
  "kernelspec": {
   "display_name": "base",
   "language": "python",
   "name": "python3"
  },
  "language_info": {
   "codemirror_mode": {
    "name": "ipython",
    "version": 3
   },
   "file_extension": ".py",
   "mimetype": "text/x-python",
   "name": "python",
   "nbconvert_exporter": "python",
   "pygments_lexer": "ipython3",
   "version": "3.12.9"
  }
 },
 "nbformat": 4,
 "nbformat_minor": 2
}
